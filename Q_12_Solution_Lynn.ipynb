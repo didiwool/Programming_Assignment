{
 "cells": [
  {
   "cell_type": "code",
   "execution_count": 1,
   "id": "4d997e9e-923e-48da-be08-6200f720519b",
   "metadata": {},
   "outputs": [],
   "source": [
    "import pandas as pd\n",
    "import numpy as np\n",
    "import math"
   ]
  },
  {
   "cell_type": "code",
   "execution_count": null,
   "id": "261627b2-4945-4776-8e18-03623745958c",
   "metadata": {},
   "outputs": [],
   "source": [
    "def timeSeriesDay(df, year, month, sensorid1, sensorid2):\n",
    "    data1 = df.loc[(data['Year'] == year) & (data['Month'] == month) & (data['Sensor_ID'] == sensorid1)].groupby([data.Sensor_ID, data.Mdate]).agg({\"Hourly_Counts\":\"sum\"})\n",
    "    data2 = df.loc[(data['Year'] == year) & (data['Month'] == month) & (data['Sensor_ID'] == sensorid2)].groupby([data.Sensor_ID, data.Mdate]).agg({\"Hourly_Counts\":\"sum\"})\n",
    "    \n",
    "    countsensor1 = data1['Hourly_Counts'].values.tolist()\n",
    "    countsensor2 = data2['Hourly_Counts'].values.tolist()\n",
    "\n",
    "    distance_e = defaultdict(float)\n",
    "    counter = 0\n",
    "\n",
    "\n",
    "    for i in range(0, len(countsensor1)):\n",
    "        counter += 1\n",
    "        distance_e[counter] = math.sqrt((countsensor1[i]-countsensor2[i])**2)\n",
    "\n",
    "     #find max and min\n",
    "    max_sensor = max(distance_e, key=distance_e.get) \n",
    "    min_sensor = min(distance_e, key=distance_e.get) \n",
    "    max_change = distance_e[max_sensor]\n",
    "    min_change = distance_e[min_sensor]\n",
    "    print(\"Day with the most difference is day \" + str(max_sensor))\n",
    "    print(\"Day with the most similarity is day \" + str(min_sensor))\n",
    "\n",
    "df_q12 = timeSeriesDay(data, 2022, 'May', 3, 9)"
   ]
  }
 ],
 "metadata": {
  "kernelspec": {
   "display_name": "Python 3 (ipykernel)",
   "language": "python",
   "name": "python3"
  },
  "language_info": {
   "codemirror_mode": {
    "name": "ipython",
    "version": 3
   },
   "file_extension": ".py",
   "mimetype": "text/x-python",
   "name": "python",
   "nbconvert_exporter": "python",
   "pygments_lexer": "ipython3",
   "version": "3.9.12"
  }
 },
 "nbformat": 4,
 "nbformat_minor": 5
}
